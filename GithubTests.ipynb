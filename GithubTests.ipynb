{
 "cells": [
  {
   "cell_type": "code",
   "execution_count": 2,
   "metadata": {},
   "outputs": [
    {
     "name": "stdin",
     "output_type": "stream",
     "text": [
      "What is your name? Colin\n",
      "How old are you? 17\n"
     ]
    },
    {
     "name": "stdout",
     "output_type": "stream",
     "text": [
      "Hello Colin\n",
      "You are 17 years old\n"
     ]
    },
    {
     "name": "stdin",
     "output_type": "stream",
     "text": [
      "Enter an integer:  5\n",
      "Enter a second integer:  20\n"
     ]
    },
    {
     "name": "stdout",
     "output_type": "stream",
     "text": [
      "The sum of your numbers is: 25\n",
      "The difference of your numbers is: -15\n",
      "The product of your numbers is: 100\n",
      "The quotient of your numbers is: 0.25\n"
     ]
    }
   ],
   "source": [
    "userName = input(\"What is your name?\")\n",
    "userAge = input(\"How old are you?\")\n",
    "\n",
    "print(\"Hello \" + userName)\n",
    "print(\"You are \" + userAge + \" years old\")\n",
    "\n",
    "numberOne = input(\"Enter an integer: \")\n",
    "numberOne = int(numberOne)\n",
    "numberTwo = input(\"Enter a second integer: \")\n",
    "numberTwo = int(numberTwo)\n",
    "\n",
    "add = numberOne + numberTwo\n",
    "add = str(add)\n",
    "sub = numberOne - numberTwo\n",
    "sub = str(sub)\n",
    "mult = numberOne * numberTwo\n",
    "mult = str(mult)\n",
    "div = numberOne / numberTwo\n",
    "div = str(div)\n",
    "\n",
    "print(\"The sum of your numbers is: \" + add)\n",
    "print(\"The difference of your numbers is: \" + sub)\n",
    "print(\"The product of your numbers is: \" + mult)\n",
    "print(\"The quotient of your numbers is: \" + div)"
   ]
  },
  {
   "cell_type": "code",
   "execution_count": null,
   "metadata": {},
   "outputs": [],
   "source": []
  }
 ],
 "metadata": {
  "kernelspec": {
   "display_name": "Python 3.7",
   "language": "python",
   "name": "python3"
  },
  "language_info": {
   "codemirror_mode": {
    "name": "ipython",
    "version": 3
   },
   "file_extension": ".py",
   "mimetype": "text/x-python",
   "name": "python",
   "nbconvert_exporter": "python",
   "pygments_lexer": "ipython3",
   "version": "3.7.0"
  }
 },
 "nbformat": 4,
 "nbformat_minor": 2
}
